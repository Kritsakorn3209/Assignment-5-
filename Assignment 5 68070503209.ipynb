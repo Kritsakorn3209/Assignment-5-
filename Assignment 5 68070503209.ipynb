{
 "cells": [
  {
   "cell_type": "markdown",
   "id": "00d70999",
   "metadata": {},
   "source": [
    "Car Rental System"
   ]
  },
  {
   "cell_type": "code",
   "execution_count": 2,
   "id": "7927438e",
   "metadata": {},
   "outputs": [
    {
     "name": "stdout",
     "output_type": "stream",
     "text": [
      "Car rented. Total cost =  10000.0\n",
      "Model: yoyota Rent per day: 2000.0 , available: False\n",
      "Car returned\n"
     ]
    }
   ],
   "source": [
    "class car:\n",
    "    def __init__(self, model ,rent_per_day ,available =True):\n",
    "        self.model = model\n",
    "        self.rent_per_day = rent_per_day\n",
    "        self.available = available\n",
    "\n",
    "    def rent(self,days):\n",
    "        if self.available == True:\n",
    "            self.available = False\n",
    "            total_cost = self.rent_per_day*days\n",
    "            print(\"Car rented. Total cost = \",total_cost)\n",
    "        else:\n",
    "            print(\"Car not available\")\n",
    "\n",
    "    def return_car(self):\n",
    "        self.available = True\n",
    "        print(\"Car returned\")\n",
    "\n",
    "    def display(self):\n",
    "        if self.available == True:\n",
    "            status = \"Available\"\n",
    "        else:\n",
    "            status = \"Not Available\"\n",
    "            print(\"Model:\",self.model,\"Rent per day:\", self.rent_per_day,\", available:\",self.available)\n",
    "\n",
    "model = input(\"Type car: \")\n",
    "rent = float(input(\"Price per day: \"))\n",
    "days = int(input(\"Number of day per rent: \"))\n",
    "\n",
    "car1 = car(model, rent)\n",
    "\n",
    "car1.rent(days)\n",
    "car1.display()\n",
    "car1.return_car()\n",
    "car1.display()"
   ]
  },
  {
   "cell_type": "markdown",
   "id": "d828eac0",
   "metadata": {},
   "source": [
    "Intheritance"
   ]
  },
  {
   "cell_type": "code",
   "execution_count": null,
   "id": "8c77c4ce",
   "metadata": {},
   "outputs": [
    {
     "name": "stdout",
     "output_type": "stream",
     "text": [
      "Name : Kritsakorn Age : 19\n",
      "Added  Math = 85\n",
      "Added  scince = 90\n",
      "Marks:\n",
      "Math = 85\n",
      "scince = 90\n",
      "Average score = 87.5\n"
     ]
    }
   ],
   "source": [
    "class person:\n",
    "    def __init__(self,name,age):\n",
    "        self.name = name\n",
    "        self.age = age\n",
    "\n",
    "    def display_info(self):\n",
    "        print(\"Name :\",self.name,\"Age :\", self.age)\n",
    "\n",
    "class student(person):\n",
    "        def __init__(self, name, age):\n",
    "             super().__init__(name, age)\n",
    "             self.marks = {}\n",
    "\n",
    "        def add_marks(self,subject,score):\n",
    "             if subject not in self.marks:\n",
    "                self.marks[subject]=score\n",
    "                print(\"Added \",subject , \"=\",score)\n",
    "             else:\n",
    "                self.marks[subject]=score\n",
    "                print(\"Update \",subject , \"=\",score)\n",
    "\n",
    "        def display_marks(self):\n",
    "             if len(self.marks) == 0:\n",
    "                  print(\"No mark yet\")\n",
    "             else:\n",
    "                  print(\"Marks:\")\n",
    "                  for subject,score in self.marks.items():\n",
    "                       print (subject ,\"=\",score)\n",
    "\n",
    "        def average(self):\n",
    "             if len(self.marks) == 0:\n",
    "                  return 0 \n",
    "             total = sum(self.marks.values())\n",
    "             return total/len(self.marks)\n",
    "        \n",
    "student1 = student(\"Kritsakorn\",19)\n",
    "student1.display_info()\n",
    "\n",
    "student1.add_marks(\"Math\",85)\n",
    "student1.add_marks(\"sci\",90)\n",
    "\n",
    "student1.display_marks()\n",
    "\n",
    "avg = student1.average()\n",
    "print(\"Average score =\", avg)"
   ]
  }
 ],
 "metadata": {
  "kernelspec": {
   "display_name": "Python 3",
   "language": "python",
   "name": "python3"
  },
  "language_info": {
   "codemirror_mode": {
    "name": "ipython",
    "version": 3
   },
   "file_extension": ".py",
   "mimetype": "text/x-python",
   "name": "python",
   "nbconvert_exporter": "python",
   "pygments_lexer": "ipython3",
   "version": "3.12.6"
  }
 },
 "nbformat": 4,
 "nbformat_minor": 5
}
